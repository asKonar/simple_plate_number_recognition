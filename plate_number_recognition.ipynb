{
  "cells": [
    {
      "cell_type": "markdown",
      "id": "a5783745-c4a7-4b1a-9cd7-f4233a35a679",
      "metadata": {
        "id": "a5783745-c4a7-4b1a-9cd7-f4233a35a679"
      },
      "source": [
        "# Get number plate from image"
      ]
    },
    {
      "cell_type": "code",
      "source": [
        "!pip install easyocr"
      ],
      "metadata": {
        "id": "Hf7xmYDoUJsL"
      },
      "id": "Hf7xmYDoUJsL",
      "execution_count": null,
      "outputs": []
    },
    {
      "cell_type": "code",
      "execution_count": 4,
      "id": "d2fa60b0-314e-4dbb-aae6-abf79427a350",
      "metadata": {
        "id": "d2fa60b0-314e-4dbb-aae6-abf79427a350"
      },
      "outputs": [],
      "source": [
        "import cv2\n",
        "import imutils\n",
        "import numpy as np\n",
        "import easyocr\n",
        "import matplotlib.pyplot as plt"
      ]
    },
    {
      "cell_type": "code",
      "execution_count": 5,
      "id": "8ae260de-ade6-4409-81b2-23a6f8a7ae92",
      "metadata": {
        "id": "8ae260de-ade6-4409-81b2-23a6f8a7ae92"
      },
      "outputs": [],
      "source": [
        "# Loading image\n",
        "img = 'car.jpg'"
      ]
    },
    {
      "cell_type": "code",
      "execution_count": 6,
      "id": "0314c6a0-7f8f-4880-a3ac-3b21be919d22",
      "metadata": {
        "id": "0314c6a0-7f8f-4880-a3ac-3b21be919d22"
      },
      "outputs": [],
      "source": [
        "# Reading image\n",
        "image = cv2.imread(img)\n",
        "# Resizing image\n",
        "image = imutils.resize(image, width=960)\n",
        "# Converting to grayscale\n",
        "gray = cv2.cvtColor(image, cv2.COLOR_BGR2GRAY)\n",
        "# Reducing noise\n",
        "gray = cv2.bilateralFilter(gray, 10, 16, 16)\n",
        "# Detecting edges\n",
        "edged = cv2.Canny(gray, 30, 200)"
      ]
    },
    {
      "cell_type": "code",
      "execution_count": 7,
      "id": "b238ef1c-6c95-4c8c-8bf3-e812131c51a9",
      "metadata": {
        "id": "b238ef1c-6c95-4c8c-8bf3-e812131c51a9"
      },
      "outputs": [],
      "source": [
        "# Finding contours\n",
        "keypoints = cv2.findContours(edged, cv2.RETR_TREE, cv2.CHAIN_APPROX_SIMPLE)\n",
        "contours = imutils.grab_contours(keypoints)\n",
        "contours = sorted(contours, key=cv2.contourArea, reverse=True)[:10]"
      ]
    },
    {
      "cell_type": "code",
      "execution_count": 8,
      "id": "a1188852-9a42-4907-b0c8-7eaacd52ed31",
      "metadata": {
        "id": "a1188852-9a42-4907-b0c8-7eaacd52ed31"
      },
      "outputs": [],
      "source": [
        "# Find countors that make a rectangle\n",
        "location = None\n",
        "for contour in contours:\n",
        "    approx = cv2.approxPolyDP(contour, 10, True)\n",
        "    if len(approx) == 4:\n",
        "        location = approx\n",
        "        break"
      ]
    },
    {
      "cell_type": "code",
      "execution_count": 9,
      "id": "38c44939-0841-4b53-8dd8-e89061ed36f3",
      "metadata": {
        "id": "38c44939-0841-4b53-8dd8-e89061ed36f3"
      },
      "outputs": [],
      "source": [
        "# Blank everything but the area of interest\n",
        "mask = np.zeros(gray.shape, np.uint8)\n",
        "new_image = cv2.drawContours(mask, [location], 0, 255, -1)\n",
        "new_image = cv2.bitwise_and(image, image, mask=mask)"
      ]
    },
    {
      "cell_type": "code",
      "execution_count": 10,
      "id": "24dbc704-6eaa-4596-b903-1be4c6ecec3c",
      "metadata": {
        "colab": {
          "base_uri": "https://localhost:8080/",
          "height": 345
        },
        "id": "24dbc704-6eaa-4596-b903-1be4c6ecec3c",
        "outputId": "82765457-70f7-42d3-e496-88d2131f3ba1"
      },
      "outputs": [
        {
          "output_type": "execute_result",
          "data": {
            "text/plain": [
              "<matplotlib.image.AxesImage at 0x7f6f61b1ddb0>"
            ]
          },
          "metadata": {},
          "execution_count": 10
        },
        {
          "output_type": "display_data",
          "data": {
            "text/plain": [
              "<Figure size 640x480 with 1 Axes>"
            ],
            "image/png": "[encoded data removed]"
          },
          "metadata": {}
        }
      ],
      "source": [
        "plt.imshow(cv2.cvtColor(new_image, cv2.COLOR_BGR2RGB))"
      ]
    },
    {
      "cell_type": "code",
      "execution_count": 11,
      "id": "ba078381-3607-4d24-aac6-156e89a08a95",
      "metadata": {
        "id": "ba078381-3607-4d24-aac6-156e89a08a95"
      },
      "outputs": [],
      "source": [
        "# Cropp image\n",
        "(x,y) = np.where(mask==255)\n",
        "(x1, y1) = (np.min(x), np.min(y))\n",
        "(x2, y2) = (np.max(x), np.max(y))\n",
        "cropped_image = gray[x1:x2, y1:y2]"
      ]
    },
    {
      "cell_type": "code",
      "execution_count": 12,
      "id": "e7263c52-faa3-4fa1-9311-bfbfe9b5eb22",
      "metadata": {
        "colab": {
          "base_uri": "https://localhost:8080/",
          "height": 194
        },
        "id": "e7263c52-faa3-4fa1-9311-bfbfe9b5eb22",
        "outputId": "bdd0f295-995a-49b7-99f5-b658672b4ecb"
      },
      "outputs": [
        {
          "output_type": "execute_result",
          "data": {
            "text/plain": [
              "<matplotlib.image.AxesImage at 0x7f6f61624130>"
            ]
          },
          "metadata": {},
          "execution_count": 12
        },
        {
          "output_type": "display_data",
          "data": {
            "text/plain": [
              "<Figure size 640x480 with 1 Axes>"
            ],
            "image/png": "[encoded data removed]"
          },
          "metadata": {}
        }
      ],
      "source": [
        "plt.imshow(cv2.cvtColor(cropped_image, cv2.COLOR_BGR2RGB))"
      ]
    },
    {
      "cell_type": "code",
      "execution_count": 13,
      "id": "cdd976a9-5203-4bbb-9773-6777ae3ee1a4",
      "metadata": {
        "colab": {
          "base_uri": "https://localhost:8080/"
        },
        "id": "cdd976a9-5203-4bbb-9773-6777ae3ee1a4",
        "outputId": "e75e6392-25d0-46c0-b105-4acf4b04af58"
      },
      "outputs": [
        {
          "output_type": "stream",
          "name": "stderr",
          "text": [
            "WARNING:easyocr.easyocr:Downloading detection model, please wait. This may take several minutes depending upon your network connection.\n"
          ]
        },
        {
          "output_type": "stream",
          "name": "stdout",
          "text": [
            "Progress: |██████████████████████████████████████████████████| 100.0% Complete"
          ]
        },
        {
          "output_type": "stream",
          "name": "stderr",
          "text": [
            "WARNING:easyocr.easyocr:Downloading recognition model, please wait. This may take several minutes depending upon your network connection.\n"
          ]
        },
        {
          "output_type": "stream",
          "name": "stdout",
          "text": [
            "Progress: |██████████████████████████████████████████████████| 100.0% CompleteNumber plate data:\n",
            "[([[0, 0], [132, 0], [132, 30], [0, 30]], 'DZG 44335', 0.8894344668542835)]\n"
          ]
        }
      ],
      "source": [
        "# Read text\n",
        "reader = easyocr.Reader(['en'])\n",
        "result = reader.readtext(cropped_image)\n",
        "print(f'Number plate data:\\n{result}')"
      ]
    },
    {
      "cell_type": "markdown",
      "id": "53e6feb2-650c-4f3d-904d-45fdc64be5ab",
      "metadata": {
        "id": "53e6feb2-650c-4f3d-904d-45fdc64be5ab"
      },
      "source": [
        "# Send request for number plate information"
      ]
    },
    {
      "cell_type": "code",
      "execution_count": 14,
      "id": "7cc25280-2cac-4c8f-a3bf-ef6542d3be54",
      "metadata": {
        "id": "7cc25280-2cac-4c8f-a3bf-ef6542d3be54"
      },
      "outputs": [],
      "source": [
        "from bs4 import BeautifulSoup\n",
        "import urllib.request\n",
        "import re"
      ]
    },
    {
      "cell_type": "code",
      "execution_count": 15,
      "id": "6f760b83-a9f4-4263-973d-665477507c09",
      "metadata": {
        "id": "6f760b83-a9f4-4263-973d-665477507c09"
      },
      "outputs": [],
      "source": [
        "# Remove whitespaces\n",
        "plate = result[0][1]\n",
        "plate = plate.replace(' ', '')"
      ]
    },
    {
      "cell_type": "code",
      "execution_count": 16,
      "id": "94a6fad5-80d0-49f6-ba1a-99dc0a729025",
      "metadata": {
        "id": "94a6fad5-80d0-49f6-ba1a-99dc0a729025"
      },
      "outputs": [],
      "source": [
        "# Send request\n",
        "req = urllib.request.Request(f'https://tablica-rejestracyjna.pl/{plate}')\n",
        "page = urllib.request.urlopen(req)\n",
        "soup = BeautifulSoup(page.read(), 'html.parser')"
      ]
    },
    {
      "cell_type": "code",
      "execution_count": 17,
      "id": "1c1d16a8-1c46-46f6-b9de-5e34f9f369cc",
      "metadata": {
        "id": "1c1d16a8-1c46-46f6-b9de-5e34f9f369cc"
      },
      "outputs": [],
      "source": [
        "# Registered in\n",
        "region = soup.find_all('span', {'itemprop': 'name'})\n",
        "try:\n",
        "    voivodeship = region[0].text.title()\n",
        "except Exception:\n",
        "    voivodeship = 'N/A'\n",
        "\n",
        "try:\n",
        "    powiat = region[1].text.title()\n",
        "except Exception:\n",
        "    powiat = 'N/A'"
      ]
    },
    {
      "cell_type": "code",
      "execution_count": 18,
      "id": "2ca22297-4aeb-407d-9669-907fc59f37a0",
      "metadata": {
        "id": "2ca22297-4aeb-407d-9669-907fc59f37a0"
      },
      "outputs": [],
      "source": [
        "# Car\n",
        "car = soup.find('span', {'itemprop': 'description'})\n",
        "try:\n",
        "    car = car.text\n",
        "except Exception:\n",
        "    car = 'N/A'"
      ]
    },
    {
      "cell_type": "code",
      "execution_count": 19,
      "id": "9b5a312b-3450-466c-9245-3bf75d4f1314",
      "metadata": {
        "id": "9b5a312b-3450-466c-9245-3bf75d4f1314"
      },
      "outputs": [],
      "source": [
        "# Driver like and Dislike\n",
        "thumbs_up = soup.find('div', {'id': 'cnt1'})\n",
        "thumbs_down = soup.find('div', {'id': 'cnt-1'})\n",
        "try:\n",
        "    thumbs_up = thumbs_up.text.strip()\n",
        "    thumbs_down = thumbs_down.text.strip()\n",
        "except Exception:\n",
        "    thumbs_up = 'N/A'\n",
        "    thumbs_down = 'N/A'"
      ]
    },
    {
      "cell_type": "code",
      "execution_count": 20,
      "id": "001198ee-510e-4c79-8408-5d5c25efda13",
      "metadata": {
        "id": "001198ee-510e-4c79-8408-5d5c25efda13"
      },
      "outputs": [],
      "source": [
        "# Rating history\n",
        "rating_history = soup.find('ul', {'class': 'ratingHistory'})\n",
        "history = []\n",
        "try:\n",
        "    for rating in rating_history:\n",
        "        history.append(rating.text)\n",
        "except Exception:\n",
        "    history.append('N/A')"
      ]
    },
    {
      "cell_type": "code",
      "execution_count": 21,
      "id": "4dc96fbb-69a9-4fbf-b967-7b09a9bce480",
      "metadata": {
        "id": "4dc96fbb-69a9-4fbf-b967-7b09a9bce480"
      },
      "outputs": [],
      "source": [
        "# Get comments\n",
        "comments = soup.find_all('div', class_='comment')\n",
        "\n",
        "# Get upvotes from every comment\n",
        "upvotes_list = []\n",
        "for comment in comments:\n",
        "    upvotes_list.extend(comment.find_all('meta', {'itemprop': 'upvoteCount'}))\n",
        "\n",
        "# Get the integers from upvotes_list\n",
        "upvote_numbers = []\n",
        "pattern = r'\\d+'\n",
        "for item in upvotes_list:\n",
        "    # Convert item to string and search for pattern\n",
        "    match = re.search(pattern, str(item))\n",
        "    if match:\n",
        "        # Convert matched string to integer and append to list\n",
        "        upvote_numbers.append(int(match.group()))\n",
        "\n",
        "# Get number of downvotes from every comment\n",
        "downvotes_list = []\n",
        "for comment in comments:\n",
        "    downvotes_list.extend(comment.find_all('meta', {'itemprop': 'downvoteCount'}))\n",
        "\n",
        "# Get the integers from downvotes_list\n",
        "downvote_numbers = []\n",
        "pattern = r'\\d+'\n",
        "for item in downvotes_list:\n",
        "    # Convert item to string and search for pattern\n",
        "    match = re.search(pattern, str(item))\n",
        "    if match:\n",
        "        # Convert matched string to integer and append to list\n",
        "        downvote_numbers.append(int(match.group()))\n",
        "\n",
        "# Subtract lists to get the real score of the comment\n",
        "subtract = []\n",
        "for i in range(len(upvote_numbers)):\n",
        "    subtract.append(upvote_numbers[i]-downvote_numbers[i])"
      ]
    },
    {
      "cell_type": "code",
      "execution_count": 22,
      "id": "388c08cc-0e1f-4544-86ae-8eab2e23d063",
      "metadata": {
        "id": "388c08cc-0e1f-4544-86ae-8eab2e23d063"
      },
      "outputs": [],
      "source": [
        "# Get data from highest score comment\n",
        "try:\n",
        "    highest_score_index = subtract.index(max(subtract))\n",
        "\n",
        "    # Comment\n",
        "    highest_score_comment = comments[highest_score_index].find('span', {'class': 'text'})\n",
        "    highest_score_comment = highest_score_comment.text.replace('\\r', '').replace('\\n', '')\n",
        "\n",
        "    # Time posted\n",
        "    highest_score_time = comments[highest_score_index].find('span', {'class': 'date'})\n",
        "    highest_score_time = highest_score_time.text\n",
        "except Exception:\n",
        "    highest_score_comment = 'N/A'\n",
        "    highest_score_image_link = 'N/A'\n",
        "    highest_score_time = 'N/A'"
      ]
    },
    {
      "cell_type": "code",
      "execution_count": 23,
      "id": "bfe4f50a-3434-4b05-bc22-18d965b4821f",
      "metadata": {
        "id": "bfe4f50a-3434-4b05-bc22-18d965b4821f"
      },
      "outputs": [],
      "source": [
        "# Get data from lowest score comment only if is different then highest score comment\n",
        "try:\n",
        "    lowest_score_index = subtract.index(min(subtract))\n",
        "    if lowest_score_index != highest_score_index:\n",
        "        # Comment\n",
        "        lowest_score_comment = comments[lowest_score_index].find('span', {'class': 'text'})\n",
        "        lowest_score_comment = lowest_score_comment.text.replace('\\r', '').replace('\\n', '')\n",
        "\n",
        "        # Time posted\n",
        "        lowest_score_time = comments[lowest_score_index].find('span', {'class': 'date'})\n",
        "        lowest_score_time = lowest_score_time.text\n",
        "except Exception:\n",
        "    lowest_score_comment = 'N/A'\n",
        "    lowest_score_image_link = 'N/A'\n",
        "    lowest_score_time = 'N/A'"
      ]
    },
    {
      "cell_type": "markdown",
      "source": [
        "# Render scraped data"
      ],
      "metadata": {
        "id": "99K2ajOznQMP"
      },
      "id": "99K2ajOznQMP"
    },
    {
      "cell_type": "code",
      "source": [
        "from jinja2 import Template\n",
        "from IPython.display import display, HTML\n",
        "\n",
        "# Load the HTML template\n",
        "template = Template('''\n",
        "<!DOCTYPE html>\n",
        "<html>\n",
        "<head>\n",
        "    <title>Variable Example</title>\n",
        "    <!-- Add Bootstrap CSS -->\n",
        "    <link rel=\"stylesheet\" href=\"https://stackpath.bootstrapcdn.com/bootstrap/4.5.2/css/bootstrap.min.css\">\n",
        "    <style>\n",
        "        /* Custom CSS */\n",
        "        body {\n",
        "            font-size: 18px;\n",
        "        }\n",
        "    </style>\n",
        "</head>\n",
        "<body>\n",
        "    <div class=\"container\">\n",
        "        <h3>Województwo: {{ voivodeship }}</h3>\n",
        "        <hr>\n",
        "        <h3>Powiat: {{ powiat }}</h3>\n",
        "        <hr>\n",
        "        <h3>Car: {{ car }}</h3>\n",
        "        <hr>\n",
        "        <h3>Like: {{ thumbs_up }}</h3>\n",
        "        <hr>\n",
        "        <h3>Dislike: {{ thumbs_down }}</h3>\n",
        "        <hr>\n",
        "        <h3>Rating History:</h3>\n",
        "        <ul>\n",
        "            {% for rating in history %}\n",
        "            <li>{{ rating }}</li>\n",
        "            {% endfor %}\n",
        "        </ul>\n",
        "        <hr>\n",
        "        <h3>Highest Scored Comment:</h3>\n",
        "        <br>\n",
        "        <h3>Time posted:</h3>\n",
        "        <p>{{ highest_score_time }}</p>\n",
        "        <h3>Comment:</h3>\n",
        "        <p>{{ highest_score_comment }}</p>\n",
        "        <h3>Score:</h3>\n",
        "        <p>\n",
        "            {{ subtract[highest_score_index] }}\n",
        "        </p>\n",
        "        <hr>\n",
        "        <h3>Lowest Scored Comment:</h3>\n",
        "        <br>\n",
        "        <h3>Time posted:</h3>\n",
        "        <p>{{ lowest_score_time }}</p>\n",
        "        <h3>Comment:</h3>\n",
        "        <p>{{ lowest_score_comment }}</p>\n",
        "        <h3>Score:</h3>\n",
        "        <p>\n",
        "            {{ subtract[lowest_score_index] }}\n",
        "        </p>\n",
        "    </div>\n",
        "\n",
        "    <!-- Add Bootstrap JavaScript (optional, but required for certain features) -->\n",
        "    <script src=\"https://stackpath.bootstrapcdn.com/bootstrap/4.5.2/js/bootstrap.min.js\"></script>\n",
        "</body>\n",
        "</html>\n",
        "''')\n",
        "\n",
        "# Render the template with the variables\n",
        "rendered_template = template.render(\n",
        "    voivodeship=voivodeship,\n",
        "    powiat=powiat,\n",
        "    car=car,\n",
        "    thumbs_up=thumbs_up,\n",
        "    thumbs_down=thumbs_down,\n",
        "    history=history,\n",
        "    highest_score_time=highest_score_time,\n",
        "    highest_score_comment=highest_score_comment,\n",
        "    highest_score_index=highest_score_index,\n",
        "    subtract=subtract,\n",
        "    lowest_score_time=lowest_score_time,\n",
        "    lowest_score_comment=lowest_score_comment,\n",
        "    lowest_score_index=lowest_score_index\n",
        ")\n",
        "\n",
        "display(HTML(rendered_template))"
      ],
      "metadata": {
        "colab": {
          "base_uri": "https://localhost:8080/",
          "height": 1000
        },
        "id": "8YNpzKIbfg1P",
        "outputId": "032b3725-9773-47e6-eb8c-c7643234e6b5"
      },
      "id": "8YNpzKIbfg1P",
      "execution_count": 24,
      "outputs": [
        {
          "output_type": "display_data",
          "data": {
            "text/plain": [
              "<IPython.core.display.HTML object>"
            ],
            "text/html": [
              "\n",
              "<!DOCTYPE html>\n",
              "<html>\n",
              "<head>\n",
              "    <title>Variable Example</title>\n",
              "    <!-- Add Bootstrap CSS -->\n",
              "    <link rel=\"stylesheet\" href=\"https://stackpath.bootstrapcdn.com/bootstrap/4.5.2/css/bootstrap.min.css\">\n",
              "    <style>\n",
              "        /* Custom CSS */\n",
              "        body {\n",
              "            font-size: 18px;\n",
              "        }\n",
              "    </style>\n",
              "</head>\n",
              "<body>\n",
              "    <div class=\"container\">\n",
              "        <h3>Województwo: Dolnośląskie</h3>\n",
              "        <hr>\n",
              "        <h3>Powiat: Zgorzelec</h3>\n",
              "        <hr>\n",
              "        <h3>Car: N/A</h3>\n",
              "        <hr>\n",
              "        <h3>Like: 20</h3>\n",
              "        <hr>\n",
              "        <h3>Dislike: 323</h3>\n",
              "        <hr>\n",
              "        <h3>Rating History:</h3>\n",
              "        <ul>\n",
              "            \n",
              "            <li>Numer 10 w rankingu najgorszych kierowców w maju 2023</li>\n",
              "            \n",
              "        </ul>\n",
              "        <hr>\n",
              "        <h3>Highest Scored Comment:</h3>\n",
              "        <br>\n",
              "        <h3>Time posted:</h3>\n",
              "        <p>2023-05-03 13:41:53</p>\n",
              "        <h3>Comment:</h3>\n",
              "        <p>Królowie osiedlowych trawników przy ul. Broniewskiego </p>\n",
              "        <h3>Score:</h3>\n",
              "        <p>\n",
              "            267\n",
              "        </p>\n",
              "        <hr>\n",
              "        <h3>Lowest Scored Comment:</h3>\n",
              "        <br>\n",
              "        <h3>Time posted:</h3>\n",
              "        <p>2023-05-04 14:53:28</p>\n",
              "        <h3>Comment:</h3>\n",
              "        <p>Akurat te auta są prawidłowo zaparkowane. TEREN PRYWATNY</p>\n",
              "        <h3>Score:</h3>\n",
              "        <p>\n",
              "            -97\n",
              "        </p>\n",
              "    </div>\n",
              "\n",
              "    <!-- Add Bootstrap JavaScript (optional, but required for certain features) -->\n",
              "    <script src=\"https://stackpath.bootstrapcdn.com/bootstrap/4.5.2/js/bootstrap.min.js\"></script>\n",
              "</body>\n",
              "</html>"
            ]
          },
          "metadata": {}
        }
      ]
    }
  ],
  "metadata": {
    "kernelspec": {
      "display_name": "Python 3",
      "name": "python3"
    },
    "language_info": {
      "codemirror_mode": {
        "name": "ipython",
        "version": 3
      },
      "file_extension": ".py",
      "mimetype": "text/x-python",
      "name": "python",
      "nbconvert_exporter": "python",
      "pygments_lexer": "ipython3",
      "version": "3.11.3"
    },
    "colab": {
      "provenance": [],
      "gpuType": "T4"
    },
    "accelerator": "GPU"
  },
  "nbformat": 4,
  "nbformat_minor": 5
}